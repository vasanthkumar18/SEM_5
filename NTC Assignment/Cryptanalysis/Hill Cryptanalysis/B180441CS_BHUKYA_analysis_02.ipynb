{
 "cells": [
  {
   "cell_type": "code",
   "execution_count": 1,
   "metadata": {},
   "outputs": [],
   "source": [
    "import numpy as np\n",
    "def inverse_key(key): #finding the inverse of the key\n",
    "    B=[[2,15,22,3],[15,0,19,3],[9,9,3,11],[17,0,4,7]]\n",
    "    return B"
   ]
  },
  {
   "cell_type": "code",
   "execution_count": 2,
   "metadata": {},
   "outputs": [],
   "source": [
    "def getkey(key): #the traditional key used\n",
    "    key=[[9, 7, 11, 13], [4, 7, 5, 6], [2, 21, 14, 9], [3, 23, 21, 8]]\n",
    "    return key\n",
    "    "
   ]
  },
  {
   "cell_type": "code",
   "execution_count": 3,
   "metadata": {},
   "outputs": [],
   "source": [
    "def dec_hill(ciphermatrix,key,n): #decrypting the cipher text using the key and cipher matrix\n",
    "    deciphertext=\"\"\n",
    "    A=inverse_key(key)\n",
    "    deciphermatrix=[[0]*4 for i in range(n)]\n",
    "    for i in range(n):\n",
    "        for j in range(4):\n",
    "            b=0\n",
    "            for k in range(4):\n",
    "                y=(A[k][j]*ciphermatrix[i][k])%26\n",
    "                b=(b+y)%26\n",
    "            a=b%26\n",
    "            deciphermatrix[i][j]=a\n",
    "            deciphertext+=chr(a+65)\n",
    "    return deciphertext  \n",
    "    \n",
    "#deciphertext contains the text"
   ]
  },
  {
   "cell_type": "code",
   "execution_count": 4,
   "metadata": {},
   "outputs": [],
   "source": [
    "def enc_hill(plain,key,n):  # encrypting the plain text with the key\n",
    "    ciphertext=\"\"\n",
    "    ciphermatrix=[[0]*4 for i in range(n)]\n",
    "    for i in range(n):\n",
    "        for j in range(4):\n",
    "            b=0\n",
    "            for k in range(4):\n",
    "                y=(plain[i][k]*key[k][j])%26\n",
    "                b=(b+y)%26\n",
    "            a=b%26\n",
    "            ciphermatrix[i][j]=a\n",
    "            ciphertext+=chr(a+65)\n",
    "    return ciphertext,ciphermatrix"
   ]
  },
  {
   "cell_type": "code",
   "execution_count": 5,
   "metadata": {},
   "outputs": [],
   "source": [
    "def getciphermatrix(cipher,n):\n",
    "    ciphermatrix=[[0]*4 for i in range(n)]\n",
    "    a=0\n",
    "    for i in range(n):\n",
    "        for j in range(4):\n",
    "            ciphermatrix[i][j]=ord(cipher[a])-65\n",
    "            a+=1\n",
    "    return ciphermatrix\n"
   ]
  },
  {
   "cell_type": "code",
   "execution_count": 6,
   "metadata": {},
   "outputs": [],
   "source": [
    "def makeplain(message,key): # making the plain text\n",
    "    i=0\n",
    "    j=0\n",
    "    plain=\"\"\n",
    "    while(i<len(message)):\n",
    "        j=0\n",
    "        while(j<len(key) and i<len(message)):\n",
    "            plain=plain+message[i]\n",
    "            i=i+1\n",
    "            j=j+1\n",
    "        while(j<len(key)):\n",
    "            plain=plain+'Z'\n",
    "            j=j+1\n",
    "    print(\"\\nThe plain text from message is:\\n\"+plain)\n",
    "    n=int(len(plain)/4)\n",
    "    plain_text=[[0]*4 for i in range(n)]\n",
    "    k = 0\n",
    "    for i in range(n): \n",
    "        for j in range(4): \n",
    "            plain_text[i][j] = ord(plain[k]) % 65\n",
    "            k += 1\n",
    "    return plain_text,n\n",
    "# returns the plain text and the size"
   ]
  },
  {
   "cell_type": "code",
   "execution_count": 7,
   "metadata": {},
   "outputs": [],
   "source": [
    "def first(message):\n",
    "    plain=input(\"Enter the known plain text\\t\")\n",
    "    cipher=input(\"Enter the known cipher text\\t\")\n",
    "    n=3\n",
    "    ciphermatrix=[[20, 17, 8, 14], [23, 0, 3, 5], [18, 1, 21, 6]]\n",
    "    key=[[0]*4 for i in range(4)]\n",
    "    key=getkey(key);\n",
    "    plainmessage=dec_hill(ciphermatrix,key,n)\n",
    "    print(\"The correspoding plain text for given cipher text is\\t\"+plainmessage)\n",
    "    "
   ]
  },
  {
   "cell_type": "code",
   "execution_count": 8,
   "metadata": {},
   "outputs": [
    {
     "name": "stdout",
     "output_type": "stream",
     "text": [
      "\n",
      "INPUT THE CIPHER TEXT\n",
      "URIOXADFSBVG\n",
      "The cipher text is\n",
      "URIOXADFSBVG\n",
      "\t\t KNOWN PLAIN TEXT ATTACK\n",
      "Enter the known plain text\tCODEISREADYZ\n",
      "Enter the known cipher text\tOHKNIHGHFISS\n",
      "The correspoding plain text for given cipher text is\tHILLCIPHERIS\n"
     ]
    }
   ],
   "source": [
    "import random\n",
    "import operator\n",
    "def main():\n",
    "    \n",
    "    i=0\n",
    "    message=str(input(\"\\nINPUT THE CIPHER TEXT\\n\"))\n",
    "    message=message.upper()\n",
    "    print(\"The cipher text is\")\n",
    "    print(message)\n",
    "    print(\"\\t\\t KNOWN PLAIN TEXT ATTACK\")\n",
    "    first(message)\n",
    "            \n",
    "if __name__=='__main__':\n",
    " main()"
   ]
  }
 ],
 "metadata": {
  "kernelspec": {
   "display_name": "Python 3",
   "language": "python",
   "name": "python3"
  },
  "language_info": {
   "codemirror_mode": {
    "name": "ipython",
    "version": 3
   },
   "file_extension": ".py",
   "mimetype": "text/x-python",
   "name": "python",
   "nbconvert_exporter": "python",
   "pygments_lexer": "ipython3",
   "version": "3.7.3"
  }
 },
 "nbformat": 4,
 "nbformat_minor": 2
}
