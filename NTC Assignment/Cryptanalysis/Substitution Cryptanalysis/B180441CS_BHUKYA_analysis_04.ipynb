{
 "cells": [
  {
   "cell_type": "code",
   "execution_count": 49,
   "metadata": {},
   "outputs": [],
   "source": [
    "def getkey(mappingkey,val): # the function which is used to get the key in a dictionary when we know the value\n",
    "    for key,value in mappingkey.items():\n",
    "        if val==value:\n",
    "            return key\n",
    "         #returning the key"
   ]
  },
  {
   "cell_type": "code",
   "execution_count": 50,
   "metadata": {},
   "outputs": [],
   "source": [
    "mappingkey={'A': 'X', 'B': 'B', 'C': 'J', 'D': 'A', 'E': 'F', 'F': 'P', 'G': 'Q', 'H': 'I', 'I': 'O', 'J': 'T', 'K': 'K', 'L': 'C', 'M': 'W', 'N': 'D', 'O': 'E', 'P': 'L', 'Q': 'H', 'R': 'R', 'S': 'V', 'T': 'Z', 'U': 'Y', 'V': 'G', 'W': 'U', 'X': 'S', 'Y': 'N', 'Z': 'M'}\n",
    "def dec_subs(cipher):\n",
    "    result=\"\"\n",
    "    for i in range(len(cipher)):\n",
    "            result+=getkey(mappingkey,cipher[i])\n",
    "        \n",
    "    return result\n",
    "#result has the decrypted text "
   ]
  },
  {
   "cell_type": "code",
   "execution_count": 51,
   "metadata": {},
   "outputs": [],
   "source": [
    "keysubs={'A': 'X', 'B': 'B', 'C': 'J', 'D': 'A', 'E': 'F', 'F': 'P', 'G': 'Q', 'H': 'I', 'I': 'O', 'J': 'T', 'K': 'K', 'L': 'C', 'M': 'W', 'N': 'D', 'O': 'E', 'P': 'L', 'Q': 'H', 'R': 'R', 'S': 'V', 'T': 'Z', 'U': 'Y', 'V': 'G', 'W': 'U', 'X': 'S', 'Y': 'N', 'Z': 'M'}\n",
    "def enc_subs(message):\n",
    "    k=\"ABCDEFGHIJKLMNOPQRSTUVWXYZ\"\n",
    "    result=\"\"\n",
    "    for i in range(len(message)):\n",
    "            result+=keysubs.get(message[i])\n",
    "    return result,keysubs\n",
    "#result has the encrypted text "
   ]
  },
  {
   "cell_type": "code",
   "execution_count": 52,
   "metadata": {},
   "outputs": [],
   "source": [
    "def dec_subskey(cipher,mappingkey):\n",
    "    result=\"\"\n",
    "    for i in range(len(cipher)):\n",
    "            result+=getkey(mappingkey,cipher[i])\n",
    "        \n",
    "    return result"
   ]
  },
  {
   "cell_type": "code",
   "execution_count": 53,
   "metadata": {},
   "outputs": [],
   "source": [
    "def first(message):\n",
    "    plain=\"SUBSTITUTIONCIPHER\"\n",
    "    cipher,keysubs=enc_subs(plain)\n",
    "    print(\"chosen plain text is\\t\"+plain)\n",
    "    print(\"chosen cipher text is\\t\"+cipher)\n",
    "    plainmessage=dec_subs(message)\n",
    "    print(\"The correspoding plain text for given cipher text is\\t\"+plainmessage)"
   ]
  },
  {
   "cell_type": "code",
   "execution_count": 54,
   "metadata": {},
   "outputs": [],
   "source": [
    "def second(message):\n",
    "    cipher=\"VYBVZOZYZOEDJOLIFR\"\n",
    "    plain=dec_subs(cipher)\n",
    "    print(\"chosen cipher text is\\t\"+cipher)\n",
    "    print(\"chosen plain text is\\t\"+plain)\n",
    "    plainmessage=dec_subs(message)\n",
    "    print(\"The correspoding plain text for given cipher text is\\t\"+plainmessage)"
   ]
  },
  {
   "cell_type": "code",
   "execution_count": 55,
   "metadata": {},
   "outputs": [
    {
     "name": "stdout",
     "output_type": "stream",
     "text": [
      "\n",
      "INPUT THE CIPHER TEXT\n",
      "RXDAEWOVIXRA\n",
      "The cipher text is\n",
      "RXDAEWOVIXRA\n",
      "\n",
      "Now choose one of the below\n",
      "1.Choosen Plain text Attack\n",
      "2.Choosen Cipher text Attack\n",
      "\n",
      "Give the corresponding number: 1\n",
      "chosen plain text is\tSUBSTITUTIONCIPHER\n",
      "chosen cipher text is\tVYBVZOZYZOEDJOLIFR\n",
      "The correspoding plain text for given cipher text is\tRANDOMISHARD\n",
      "\n",
      "Now choose one of the below\n",
      "1.Choosen Plain text Attack\n",
      "2.Choosen Cipher text Attack\n",
      "\n",
      "Give the corresponding number: 2\n",
      "chosen cipher text is\tVYBVZOZYZOEDJOLIFR\n",
      "chosen plain text is\tSUBSTITUTIONCIPHER\n",
      "The correspoding plain text for given cipher text is\tRANDOMISHARD\n"
     ]
    }
   ],
   "source": [
    "import random\n",
    "import operator\n",
    "def main():\n",
    "    i=0\n",
    "    message=str(input(\"\\nINPUT THE CIPHER TEXT\\n\"))\n",
    "    message=message.upper()\n",
    "    print(\"The cipher text is\")\n",
    "    print(message)\n",
    "    while i<2:\n",
    "        print(\"\\nNow choose one of the below\")\n",
    "        print(\"1.Choosen Plain text Attack\")\n",
    "        print(\"2.Choosen Cipher text Attack\")\n",
    "        s=int(input(\"\\nGive the corresponding number: \"))\n",
    "        if s==1:\n",
    "            first(message)\n",
    "        elif s==2:\n",
    "            second(message)\n",
    "        i+=1\n",
    "            \n",
    "\n",
    "if __name__=='__main__':\n",
    "    main()"
   ]
  }
 ],
 "metadata": {
  "kernelspec": {
   "display_name": "Python 3",
   "language": "python",
   "name": "python3"
  },
  "language_info": {
   "codemirror_mode": {
    "name": "ipython",
    "version": 3
   },
   "file_extension": ".py",
   "mimetype": "text/x-python",
   "name": "python",
   "nbconvert_exporter": "python",
   "pygments_lexer": "ipython3",
   "version": "3.7.3"
  }
 },
 "nbformat": 4,
 "nbformat_minor": 2
}
