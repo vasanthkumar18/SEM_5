{
 "cells": [
  {
   "cell_type": "code",
   "execution_count": 81,
   "metadata": {},
   "outputs": [],
   "source": [
    "key=\"NXHXEOJRYJNILF\"\n",
    "def dec_vigenere(cipher): #decrypt the plain text where we have a key which is a string\n",
    "    result=\"\"\n",
    "    k=0\n",
    "    for i in range(len(cipher)):\n",
    "            j=k%len(key)\n",
    "            x=(ord(cipher[i])-ord(key[j]))%26\n",
    "            x+=65\n",
    "            result+=chr(x)\n",
    "            k+=1\n",
    "    return result\n",
    "#result has the decrypted text"
   ]
  },
  {
   "cell_type": "code",
   "execution_count": 82,
   "metadata": {},
   "outputs": [],
   "source": [
    "def dec_vigenerekey(cipher,key): #decrypt the plain text where we have a key which is a string\n",
    "    result=\"\"\n",
    "    k=0\n",
    "    for i in range(len(cipher)):\n",
    "            j=k%len(key)\n",
    "            x=(ord(cipher[i])-ord(key[j]))%26\n",
    "            x+=65\n",
    "            result+=chr(x)\n",
    "            k+=1\n",
    "    return result\n",
    "#result has the decrypted text"
   ]
  },
  {
   "cell_type": "code",
   "execution_count": 83,
   "metadata": {},
   "outputs": [],
   "source": [
    "key=\"NXHXEOJRYJNILF\"\n",
    "def enc_vigenere(plain): #encrypt the plain text where we have a key which is a string\n",
    "    result=\"\"\n",
    "    k=0\n",
    "    for i in range(len(plain)):\n",
    "        if plain[i]==' ':\n",
    "            result+=''\n",
    "        else:\n",
    "            j=k%len(key)\n",
    "            x=(ord(plain[i])+ord(key[j]))%26\n",
    "            x+=65\n",
    "            result+=chr(x)\n",
    "            k+=1\n",
    "    return result   \n",
    "#result has the encrypted text"
   ]
  },
  {
   "cell_type": "code",
   "execution_count": 84,
   "metadata": {},
   "outputs": [],
   "source": [
    "def getkey(plain,cipher,Alphabet):\n",
    "    x=len(plain)\n",
    "    str=''\n",
    "    for i in range(x):\n",
    "        p=ord(cipher[i])-(ord(plain[i])%26)\n",
    "        if(p<0):\n",
    "            p=26-p\n",
    "        str+=Alphabet[p%26]\n",
    "        \n",
    "    return str"
   ]
  },
  {
   "cell_type": "code",
   "execution_count": 85,
   "metadata": {},
   "outputs": [],
   "source": [
    "def first(message):\n",
    "    plain=input(\"Enter the known plain text\\t\")\n",
    "    cipher=input(\"Enter the known cipher text\\t\")\n",
    "    Alphabet=list(map(chr,range(ord('A'),ord('Z')+1)))\n",
    "    a=getkey(plain,cipher,Alphabet)\n",
    "    print(\"The key is\\t\"+key)\n",
    "    plainmessage=dec_vigenerekey(message,a)\n",
    "    print(\"The correspoding plain text for given cipher text is\\t\"+plainmessage)\n",
    "    "
   ]
  },
  {
   "cell_type": "code",
   "execution_count": 86,
   "metadata": {},
   "outputs": [],
   "source": [
    "def second(message):\n",
    "    plain=\"VIGENERECIPHER\"\n",
    "    cipher=enc_vigenere(plain)\n",
    "    print(\"chosen plain text is\\t\"+plain)\n",
    "    print(\"chosen cipher text is\\t\"+cipher)\n",
    "    Alphabet=list(map(chr,range(ord('A'),ord('Z')+1)))\n",
    "    a=getkey(plain,cipher,Alphabet)\n",
    "    print(\"The key is\\t\"+key)\n",
    "    plainmessage=dec_vigenerekey(message,a)\n",
    "    print(\"The correspoding plain text for given cipher text is\\t\"+plainmessage)\n",
    "    "
   ]
  },
  {
   "cell_type": "code",
   "execution_count": 87,
   "metadata": {},
   "outputs": [],
   "source": [
    "def third(message):\n",
    "    cipher=\"IFNBRSAVARCPPW\"\n",
    "    plain=dec_vigenere(cipher)\n",
    "    print(\"chosen cipher text is\\t\"+cipher)\n",
    "    print(\"chosen plain text is\\t\"+plain)\n",
    "    Alphabet=list(map(chr,range(ord('A'),ord('Z')+1)))\n",
    "    a=getkey(plain,cipher,Alphabet)\n",
    "    print(\"The key is\\t\"+key)\n",
    "    plainmessage=dec_vigenerekey(message,a)\n",
    "    print(\"The correspoding plain text for given cipher text is\\t\"+plainmessage)\n",
    "  "
   ]
  },
  {
   "cell_type": "code",
   "execution_count": 88,
   "metadata": {},
   "outputs": [
    {
     "name": "stdout",
     "output_type": "stream",
     "text": [
      "\n",
      "INPUT THE CIPHER TEXT\n",
      "FELFWZRJRNAQYL\n",
      "The cipher text is\n",
      "FELFWZRJRNAQYL\n",
      "\n",
      "Now choose one of the below\n",
      "1.Kasiki Attack\n",
      "2.Chosen Plain text Attack\n",
      "3.Chosen Cipher text Attack\n",
      "\n",
      "Give the corresponding number: 1\n",
      "Enter the known plain text\tVIGENERECIPHER\n",
      "Enter the known cipher text\tIFNBRSAVARCPPW\n",
      "The key is\tNXHXEOJRYJNILF\n",
      "The correspoding plain text for given cipher text is\tSHEISLISTENING\n",
      "\n",
      "Now choose one of the below\n",
      "1.Kasiki Attack\n",
      "2.Chosen Plain text Attack\n",
      "3.Chosen Cipher text Attack\n",
      "\n",
      "Give the corresponding number: 2\n",
      "chosen plain text is\tVIGENERECIPHER\n",
      "chosen cipher text is\tIFNBRSAVARCPPW\n",
      "The key is\tNXHXEOJRYJNILF\n",
      "The correspoding plain text for given cipher text is\tSHEISLISTENING\n",
      "\n",
      "Now choose one of the below\n",
      "1.Kasiki Attack\n",
      "2.Chosen Plain text Attack\n",
      "3.Chosen Cipher text Attack\n",
      "\n",
      "Give the corresponding number: 3\n",
      "chosen cipher text is\tIFNBRSAVARCPPW\n",
      "chosen plain text is\tVIGENERECIPHER\n",
      "The key is\tNXHXEOJRYJNILF\n",
      "The correspoding plain text for given cipher text is\tSHEISLISTENING\n"
     ]
    }
   ],
   "source": [
    "import random\n",
    "import operator\n",
    "def main():\n",
    "    i=0\n",
    "    message=str(input(\"\\nINPUT THE CIPHER TEXT\\n\"))\n",
    "    message=message.upper()\n",
    "    print(\"The cipher text is\")\n",
    "    print(message)\n",
    "    while i<3:\n",
    "        print(\"\\nNow choose one of the below\")\n",
    "        print(\"1.Kasiki Attack\")\n",
    "        print(\"2.Chosen Plain text Attack\")\n",
    "        print(\"3.Chosen Cipher text Attack\")\n",
    "        s=int(input(\"\\nGive the corresponding number: \"))\n",
    "        if s==1:\n",
    "            first(message)\n",
    "        elif s==2:\n",
    "            second(message)\n",
    "        elif s==3:\n",
    "            third(message)\n",
    "        i+=1\n",
    "\n",
    "if __name__=='__main__':\n",
    "    main()"
   ]
  }
 ],
 "metadata": {
  "kernelspec": {
   "display_name": "Python 3",
   "language": "python",
   "name": "python3"
  },
  "language_info": {
   "codemirror_mode": {
    "name": "ipython",
    "version": 3
   },
   "file_extension": ".py",
   "mimetype": "text/x-python",
   "name": "python",
   "nbconvert_exporter": "python",
   "pygments_lexer": "ipython3",
   "version": "3.7.3"
  }
 },
 "nbformat": 4,
 "nbformat_minor": 2
}
