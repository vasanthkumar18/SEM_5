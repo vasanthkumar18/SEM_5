{
 "cells": [
  {
   "cell_type": "code",
   "execution_count": 1,
   "metadata": {},
   "outputs": [],
   "source": [
    "def getkey(mappingkey,val): # the function which is used to get the key in a dictionary when we know the value\n",
    "    for key,value in mappingkey.items():\n",
    "        if val==value:\n",
    "            return key #returning the key"
   ]
  },
  {
   "cell_type": "code",
   "execution_count": 2,
   "metadata": {},
   "outputs": [],
   "source": [
    "def dec_subs(cipher,mappingkey): #decrypting the cipher text using mappingkey\n",
    "    result=\"\"\n",
    "    for i in range(len(cipher)): #iterate till the length of cipher\n",
    "            result+=getkey(mappingkey,cipher[i])\n",
    "        \n",
    "    return result \n",
    "#result has the decrypted text "
   ]
  },
  {
   "cell_type": "code",
   "execution_count": 3,
   "metadata": {},
   "outputs": [],
   "source": [
    "def enc_subs(message): #encrypt the plain text where we randomly map the plain text to get the cipher text\n",
    "    k=\"ABCDEFGHIJKLMNOPQRSTUVWXYZ\"\n",
    "    result=\"\"\n",
    "    keysubs={}\n",
    "    for i in range(len(message)): #iterate through the length of plain text\n",
    "        if message[i]==' ':\n",
    "            result+=''\n",
    "        elif message[i] not in keysubs:\n",
    "            l=random.choice(k)   #randomly mapping\n",
    "            result+=l\n",
    "            keysubs[message[i]]=l\n",
    "            k=k.replace(l,'')\n",
    "        else:\n",
    "            result+=keysubs.get(message[i])\n",
    "    return result,keysubs\n",
    "#result has encrypted text and keysubs contain the mapping key"
   ]
  },
  {
   "cell_type": "code",
   "execution_count": 6,
   "metadata": {},
   "outputs": [
    {
     "name": "stdout",
     "output_type": "stream",
     "text": [
      "Enter the message\n",
      "the attack is tomorrow\n",
      "cipher text is\t\t\t\tOGWDOODTNIKOAEARRAH\n",
      "plain text from cipher text is\t\tTHEATTACKISTOMORROW\n"
     ]
    }
   ],
   "source": [
    "import random\n",
    "def main():\n",
    "    message=input(\"Enter the message\\n\")\n",
    "    message=message.upper()\n",
    "    mappingkey={}\n",
    "    cipher,mappingkey=enc_subs(message) # encrypt the plain text and also get the mapping key\n",
    "    print(\"cipher text is\\t\\t\\t\\t\"+cipher)  #print the cipher text generated\n",
    "    print(\"plain text from cipher text is\\t\\t\"+dec_subs(cipher,mappingkey)) #decrypt the cipher text and print it\n",
    "\n",
    "\n",
    "\n",
    "if __name__=='__main__':\n",
    " main()"
   ]
  },
  {
   "cell_type": "code",
   "execution_count": null,
   "metadata": {},
   "outputs": [],
   "source": []
  }
 ],
 "metadata": {
  "kernelspec": {
   "display_name": "Python 3",
   "language": "python",
   "name": "python3"
  },
  "language_info": {
   "codemirror_mode": {
    "name": "ipython",
    "version": 3
   },
   "file_extension": ".py",
   "mimetype": "text/x-python",
   "name": "python",
   "nbconvert_exporter": "python",
   "pygments_lexer": "ipython3",
   "version": "3.7.3"
  }
 },
 "nbformat": 4,
 "nbformat_minor": 2
}
