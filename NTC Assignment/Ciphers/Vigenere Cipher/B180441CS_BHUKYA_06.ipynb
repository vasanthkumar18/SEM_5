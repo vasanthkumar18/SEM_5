{
 "cells": [
  {
   "cell_type": "code",
   "execution_count": 1,
   "metadata": {},
   "outputs": [],
   "source": [
    "def dec_vigenere(cipher,key):  #decrypt the plain text where we have a key which is a string\n",
    "    result=\"\"\n",
    "    k=0\n",
    "    for i in range(len(cipher)):\n",
    "            j=k%len(key)\n",
    "            x=(ord(cipher[i])-ord(key[j]))%26\n",
    "            x+=65\n",
    "            result+=chr(x)\n",
    "            k+=1\n",
    "    return result\n",
    "#result has the decrypted text"
   ]
  },
  {
   "cell_type": "code",
   "execution_count": 2,
   "metadata": {},
   "outputs": [],
   "source": [
    "def enc_vigenere(plain,key):  #encrypt the plain text where we have a key which is a string\n",
    "    result=\"\"\n",
    "    print(plain)\n",
    "    k=0\n",
    "    for i in range(len(plain)):\n",
    "        if plain[i]==' ':\n",
    "            result+=''\n",
    "        else:\n",
    "            j=k%len(key)\n",
    "            x=(ord(plain[i])+ord(key[j]))%26\n",
    "            x+=65\n",
    "            result+=chr(x)\n",
    "            k+=1\n",
    "    return result \n",
    "#result has the encrypted text"
   ]
  },
  {
   "cell_type": "code",
   "execution_count": 6,
   "metadata": {},
   "outputs": [
    {
     "name": "stdout",
     "output_type": "stream",
     "text": [
      "Enter the message\n",
      "tonightattck\n",
      "size of key is: 5\tKey is:   MBCNL\n",
      "TONIGHTATTCK\n",
      "cipher text is\t\t\t\tFPPVRTUCGEOL\n",
      "plain text from cipher text is\t\tTONIGHTATTCK\n"
     ]
    }
   ],
   "source": [
    "import random\n",
    "def main():\n",
    "    message=input(\"Enter the message\\n\")\n",
    "    z=len(message)\n",
    "    k=\"ABCDEFGHIJKLMNOPQRSTUVWXYZ\"\n",
    "    i=random.randint(1,z) #generate random keysize\n",
    "    key=\"\"\n",
    "    for x in range(0,i):\n",
    "        key+=random.choice(k) # generating some random key of size i which is also random\n",
    "    y=str(i)\n",
    "    message=message.upper()\n",
    "    print(\"size of key is: \"+y+\"\\tKey is:   \"+key) #printing the size of key and key\n",
    "    cipher=enc_vigenere(message,key) #encrypting the plain text\n",
    "    print(\"cipher text is\\t\\t\\t\\t\"+cipher)\n",
    "    print(\"plain text from cipher text is\\t\\t\"+dec_vigenere(cipher,key)) #decrypting the cipher text\n",
    "\n",
    "    \n",
    "    \n",
    "    \n",
    "if __name__=='__main__':\n",
    "    main()\n",
    "        \n",
    "    \n",
    "    "
   ]
  },
  {
   "cell_type": "code",
   "execution_count": null,
   "metadata": {},
   "outputs": [],
   "source": []
  }
 ],
 "metadata": {
  "kernelspec": {
   "display_name": "Python 3",
   "language": "python",
   "name": "python3"
  },
  "language_info": {
   "codemirror_mode": {
    "name": "ipython",
    "version": 3
   },
   "file_extension": ".py",
   "mimetype": "text/x-python",
   "name": "python",
   "nbconvert_exporter": "python",
   "pygments_lexer": "ipython3",
   "version": "3.7.3"
  }
 },
 "nbformat": 4,
 "nbformat_minor": 2
}
