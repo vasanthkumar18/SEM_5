{
 "cells": [
  {
   "cell_type": "code",
   "execution_count": 26,
   "metadata": {},
   "outputs": [],
   "source": [
    "def enc_keyless2(message): # ROW TRANSPOSITION encryption in which we encrytp the plain by transpose of matrix\n",
    "    text=\"\"\n",
    "    i=0\n",
    "    while(i<len(message)):\n",
    "        if(message[i]!=' '):\n",
    "            text=text+message[i]\n",
    "        i=i+1\n",
    "    result=\"\"\n",
    "    i=0\n",
    "    while((i*i)<len(text)):\n",
    "        i=i+1\n",
    "    j=0\n",
    "    count=0\n",
    "    while(j<i and count<len(text)):\n",
    "        k=0\n",
    "        l=j\n",
    "        while(k<i and count<len(text)):\n",
    "            result=result+text[l]\n",
    "            count=count+1\n",
    "            k=k+1\n",
    "            l=l+4\n",
    "        j=j+1\n",
    "        \n",
    "    return result\n",
    "# result contains the cipher text"
   ]
  },
  {
   "cell_type": "code",
   "execution_count": 27,
   "metadata": {},
   "outputs": [],
   "source": [
    "def enc_keyless1(message): # RAIL FENCE keyless transoposition for encryption where we simple use two rows and generate the cipher text\n",
    "    text=\"\"\n",
    "    i=0\n",
    "    while(i<len(message)):\n",
    "        if(message[i]!=' '):\n",
    "            text=text+message[i]\n",
    "        i=i+1\n",
    "    result=\"\"\n",
    "    i=0\n",
    "    while(i<len(text)):\n",
    "        result=result+text[i]\n",
    "        i=i+2  #appending even text\n",
    "    i=1\n",
    "    while(i<len(text)):\n",
    "        result=result+text[i]\n",
    "        i=i+2  #appending odd text\n",
    "    return result \n",
    "#result has the cipher text which is made by rail fence"
   ]
  },
  {
   "cell_type": "code",
   "execution_count": 28,
   "metadata": {},
   "outputs": [],
   "source": [
    "def dec_keyless1(cipher,a,b): # RAIL FENCE keyless decryption using the cipher text we got, a and b contains odd and even characters\n",
    "    \n",
    "    i=len(a)\n",
    "    j=len(b)\n",
    "    result=\"\"\n",
    "    print(\"decryption of rail fence cipehr text is \\t\\t\",end=\"\") #here we print the decypted text\n",
    "    \n",
    "    if i>j:\n",
    "        for k in range(i-1):\n",
    "            print(a[k],end=\"\")\n",
    "            print(b[k],end=\"\")\n",
    "        print(a[k+1])\n",
    "    else:\n",
    "        for k in range(j):\n",
    "            print(a[k],end=\"\")\n",
    "            print(b[k],end=\"\")"
   ]
  },
  {
   "cell_type": "code",
   "execution_count": 29,
   "metadata": {},
   "outputs": [],
   "source": [
    "def dec_keyless2(final): # ROW TRANSPOSITION decryption in which we decrypt the cipher by reverse transpose of matrix\n",
    "    lis1=[]\n",
    "    k=-1\n",
    "    count=0\n",
    "    while(k<4 and count<len(final)):\n",
    "        k=k+1\n",
    "        i=k\n",
    "        while(i<len(final) and count<len(final)):\n",
    "            lis1.append(final[i])\n",
    "            i=i+4\n",
    "            count=count+1\n",
    "    str1=''.join([str(elem) for elem in lis1]) \n",
    "    return str1\n",
    "# str1 contains the decrypted text"
   ]
  },
  {
   "cell_type": "code",
   "execution_count": 48,
   "metadata": {},
   "outputs": [
    {
     "name": "stdout",
     "output_type": "stream",
     "text": [
      "Enter the message\n",
      "rail fence cipher\n",
      "rail fence cipher text is\t\t\t\tRIFNEIHRALECCPE\n",
      "decryption of rail fence cipehr text is \t\tRAIL FENCE CIPHER\n",
      "matrix transposition cipher text is\t\t\tRFEHAECEINIRLCP\n",
      "decryption of matrix transposition cipher is\t\tRAIL FENCE CIPHER\n"
     ]
    }
   ],
   "source": [
    "def main():\n",
    "    message=input(\"Enter the message\\n\")\n",
    "    message=message.upper()\n",
    "    cipher1=enc_keyless1(message) # encrypt the RAIL FENCE transpositon plain text\n",
    "    list1=[]\n",
    "    list2=[]\n",
    "    for i in range(len(message)):\n",
    "        if i%2==0:\n",
    "            list1.append(message[i])  #list1 contains even length\n",
    "        else:\n",
    "            list2.append(message[i]) #list2 contains odd length\n",
    "    print(\"rail fence cipher text is\\t\\t\\t\\t\"+cipher1) #print the encrypted text\n",
    "    dec_keyless1(cipher1,list1,list2) #decrypt the RAIL FENCE cipher text\n",
    "   \n",
    "    cipher2=enc_keyless2(message)  #encrypt the ROW TRANSPOSITION plain text\n",
    "    print(\"matrix transposition cipher text is\\t\\t\\t\"+cipher2) #print the encrypted text\n",
    "    count=0\n",
    "    final=[]\n",
    "    s=[]\n",
    "    k=-1\n",
    "    for i in message:\n",
    "        s.append(i)\n",
    "    while(k<4 and count<len(message)):\n",
    "        k=k+1\n",
    "        i=k\n",
    "        while(i<len(message) and count<len(message)):\n",
    "            final.append(s[i])\n",
    "            i=i+4\n",
    "            count=count+1\n",
    "    plain2=dec_keyless2(final) #decrypt the ROW TRANSPOSITION cipher text\n",
    "    print(\"decryption of matrix transposition cipher is\\t\\t\"+message) #print the decrypted text\n",
    "\n",
    "\n",
    "\n",
    "if __name__=='__main__':\n",
    " main()"
   ]
  },
  {
   "cell_type": "markdown",
   "metadata": {},
   "source": []
  },
  {
   "cell_type": "code",
   "execution_count": null,
   "metadata": {},
   "outputs": [],
   "source": []
  }
 ],
 "metadata": {
  "kernelspec": {
   "display_name": "Python 3",
   "language": "python",
   "name": "python3"
  },
  "language_info": {
   "codemirror_mode": {
    "name": "ipython",
    "version": 3
   },
   "file_extension": ".py",
   "mimetype": "text/x-python",
   "name": "python",
   "nbconvert_exporter": "python",
   "pygments_lexer": "ipython3",
   "version": "3.7.3"
  }
 },
 "nbformat": 4,
 "nbformat_minor": 2
}
