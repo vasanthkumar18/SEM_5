{
 "cells": [
  {
   "cell_type": "code",
   "execution_count": 14,
   "metadata": {},
   "outputs": [],
   "source": [
    "import numpy as np\n",
    "def inverse_key(key):   #finding the inverse of the key \n",
    "    B=[[2,15,22,3],[15,0,19,3],[9,9,3,11],[17,0,4,7]]\n",
    "    print(\"\\nInverted matrix of key is:\")\n",
    "    print(B)\n",
    "    return B"
   ]
  },
  {
   "cell_type": "code",
   "execution_count": 15,
   "metadata": {},
   "outputs": [],
   "source": [
    "def getkey(key):  #the traditional key used\n",
    "    key=[[9, 7, 11, 13], [4, 7, 5, 6], [2, 21, 14, 9], [3, 23, 21, 8]]\n",
    "    return key\n",
    "    "
   ]
  },
  {
   "cell_type": "code",
   "execution_count": 16,
   "metadata": {},
   "outputs": [],
   "source": [
    "def dec_hill(ciphermatrix,key,n): #decrypting the cipher text using the key and cipher matrix\n",
    "    deciphertext=\"\"\n",
    "    A=inverse_key(key)\n",
    "    deciphermatrix=[[0]*4 for i in range(n)]\n",
    "    for i in range(n):\n",
    "        for j in range(4):\n",
    "            b=0\n",
    "            for k in range(4):\n",
    "                y=(A[k][j]*ciphermatrix[i][k])%26\n",
    "                b=(b+y)%26\n",
    "            a=b%26\n",
    "            deciphermatrix[i][j]=a\n",
    "            deciphertext+=chr(a+65)\n",
    "    print(\"\\ndecipher text in the matrix form:\")\n",
    "    print(deciphermatrix)\n",
    "    return deciphertext  \n",
    "    \n",
    "#deciphertext contains the text"
   ]
  },
  {
   "cell_type": "code",
   "execution_count": 17,
   "metadata": {},
   "outputs": [],
   "source": [
    "def enc_hill(plain,key,n): # encrypting the plain text with the key \n",
    "    ciphertext=\"\"\n",
    "    ciphermatrix=[[0]*4 for i in range(n)]\n",
    "    for i in range(n):\n",
    "        for j in range(4):\n",
    "            b=0\n",
    "            for k in range(4):\n",
    "                y=(plain[i][k]*key[k][j])%26\n",
    "                b=(b+y)%26\n",
    "            a=b%26\n",
    "            ciphermatrix[i][j]=a\n",
    "            ciphertext+=chr(a+65)\n",
    "    print(\"\\ncipher text in the matrix form:\")\n",
    "    print(ciphermatrix)\n",
    "    return ciphertext,ciphermatrix"
   ]
  },
  {
   "cell_type": "code",
   "execution_count": 18,
   "metadata": {},
   "outputs": [],
   "source": [
    "def makeplain(message,key): # making the plain text\n",
    "    i=0\n",
    "    j=0\n",
    "    plain=\"\"\n",
    "    while(i<len(message)):\n",
    "        j=0\n",
    "        while(j<len(key) and i<len(message)):\n",
    "            plain=plain+message[i]\n",
    "            i=i+1\n",
    "            j=j+1\n",
    "        while(j<len(key)):\n",
    "            plain=plain+'Z'\n",
    "            j=j+1\n",
    "    print(\"\\nThe plain text from message is:\\n\"+plain)\n",
    "    n=int(len(plain)/4)\n",
    "    plain_text=[[0]*4 for i in range(n)]\n",
    "    k = 0\n",
    "    for i in range(n): \n",
    "        for j in range(4): \n",
    "            plain_text[i][j] = ord(plain[k]) % 65\n",
    "            k += 1\n",
    "    return plain_text,n\n",
    "# returns the plain text and the size"
   ]
  },
  {
   "cell_type": "code",
   "execution_count": 21,
   "metadata": {},
   "outputs": [
    {
     "name": "stdout",
     "output_type": "stream",
     "text": [
      "Enter the message\n",
      "Kill them Today\n",
      "\n",
      "key in the form of matrix:\n",
      "[[9, 7, 11, 13], [4, 7, 5, 6], [2, 21, 14, 9], [3, 23, 21, 8]]\n",
      "\n",
      "The plain text from message is:\n",
      "KILLTHEMTODAYZZZ\n",
      "\n",
      "plain text in the matrix form:\n",
      "[[10, 8, 11, 11], [19, 7, 4, 12], [19, 14, 3, 0], [24, 25, 25, 25]]\n",
      "\n",
      "cipher text in the matrix form:\n",
      "[[21, 12, 15, 1], [9, 22, 6, 5], [25, 8, 9, 20], [25, 13, 16, 3]]\n",
      "\n",
      "cipher text is(by encryption): \n",
      "VMPBJWGFZIJUZNQD\n",
      "\n",
      "Inverted matrix of key is:\n",
      "[[2, 15, 22, 3], [15, 0, 19, 3], [9, 9, 3, 11], [17, 0, 4, 7]]\n",
      "\n",
      "decipher text in the matrix form:\n",
      "[[10, 8, 11, 11], [19, 7, 4, 12], [19, 14, 3, 0], [24, 25, 25, 25]]\n",
      "\n",
      "plain text from cipher text is(by decryption):\n",
      "KILLTHEMTODAYZZZ\n"
     ]
    }
   ],
   "source": [
    "import random\n",
    "def main():\n",
    "    message=input(\"Enter the message\\n\") #input the text for which we need encryption\n",
    "    message=message.upper()\n",
    "    text=\"\"\n",
    "    j=0\n",
    "    while(j<len(message)):\n",
    "        if(message[j]!=' '):\n",
    "            text=text+message[j]\n",
    "        j=j+1\n",
    "    \n",
    "    \n",
    "    key=[[0]*4 for i in range(4)]\n",
    "    key=getkey(key); #getting the key\n",
    "\n",
    "    print(\"\\nkey in the form of matrix:\")\n",
    "    print(key)\n",
    "    \n",
    "    plainmatrix,n=makeplain(text,key) #making the plaintext matrix\n",
    "    print(\"\\nplain text in the matrix form:\")\n",
    "    print(plainmatrix)\n",
    "    \n",
    "    ciphertext,ciphermatrix=enc_hill(plainmatrix,key,n) #encryption of plain text\n",
    "    print(\"\\ncipher text is(by encryption): \")\n",
    "    print(ciphertext)\n",
    "    \n",
    "    \n",
    "    deciphertext=dec_hill(ciphermatrix,key,n) #decryption of cipher text\n",
    "    print(\"\\nplain text from cipher text is(by decryption):\")\n",
    "    print(deciphertext)\n",
    "    \n",
    "\n",
    "\n",
    "\n",
    "if __name__=='__main__':\n",
    " main()"
   ]
  },
  {
   "cell_type": "code",
   "execution_count": null,
   "metadata": {},
   "outputs": [],
   "source": []
  }
 ],
 "metadata": {
  "kernelspec": {
   "display_name": "Python 3",
   "language": "python",
   "name": "python3"
  },
  "language_info": {
   "codemirror_mode": {
    "name": "ipython",
    "version": 3
   },
   "file_extension": ".py",
   "mimetype": "text/x-python",
   "name": "python",
   "nbconvert_exporter": "python",
   "pygments_lexer": "ipython3",
   "version": "3.7.3"
  }
 },
 "nbformat": 4,
 "nbformat_minor": 2
}
