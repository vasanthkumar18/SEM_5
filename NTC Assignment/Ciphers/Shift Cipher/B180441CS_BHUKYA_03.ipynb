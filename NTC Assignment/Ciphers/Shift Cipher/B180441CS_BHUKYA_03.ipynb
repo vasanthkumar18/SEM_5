{
 "cells": [
  {
   "cell_type": "code",
   "execution_count": 7,
   "metadata": {},
   "outputs": [],
   "source": [
    "def inverse_mod(l):      #finds the inverse of the number in Z26         \n",
    "    for i in range(1,26):   #since the alphabets are 26, we use Z26\n",
    "        if (l*i)%26==1:         \n",
    "            return i\n",
    "    #we pass the inputs only which have the inverse and finally i is the inverse which we are looking for"
   ]
  },
  {
   "cell_type": "code",
   "execution_count": 8,
   "metadata": {},
   "outputs": [],
   "source": [
    "def enc_shift(plain,a,b): #encrypt the plain text where we have 2 keys in which a=1 as fixed which means it is shift cipher\n",
    "    result=\"\"\n",
    "    for c in plain:\n",
    "        if c.isupper():         # incase the character is UPPERCASE\n",
    "            d=(ord(c)-65)*a+b\n",
    "            result+=chr((d%26)+65)\n",
    "        elif c.islower():       # incase the character is UPPERCASE\n",
    "            d=(ord(c)-97)*a+b\n",
    "            result+=chr((d%26)+65)\n",
    "        else:                   # space (considering proper message)\n",
    "            result=result+''\n",
    "    return result\n",
    "#result has the encrypted text"
   ]
  },
  {
   "cell_type": "code",
   "execution_count": 9,
   "metadata": {},
   "outputs": [],
   "source": [
    "def dec_shift(cipher,a,b): #decrypt the plain text where we have 2 keys in which a=1 as fixed which means it is shift cipher\n",
    "    result=\"\" \n",
    "    for c in cipher:\n",
    "        if c.isupper():\n",
    "            d=((ord(c)-65)-b)*inverse_mod(a)    # here we calucuate the inverse of a \n",
    "            result+=chr((d%26)+65)\n",
    "        elif c.islower():\n",
    "            d=((ord(c)-97)-b)*inverse_mod(a)\n",
    "            result+=chr((d%26)+65)\n",
    "    return result\n",
    "   #result has the decrypted text         "
   ]
  },
  {
   "cell_type": "code",
   "execution_count": 11,
   "metadata": {},
   "outputs": [
    {
     "name": "stdout",
     "output_type": "stream",
     "text": [
      "INPUT YOUR MESSAGE\n",
      "hello there\n",
      "Key1: 1\tKey2: 2\n",
      "cipher text is\t\t\t\tJGNNQVJGTG\n",
      "plain text from cipher text is\t\tHELLOTHERE\n"
     ]
    }
   ],
   "source": [
    "import random\n",
    "def main():\n",
    "    message=str(input(\"INPUT YOUR MESSAGE\\n\"))\n",
    "    a=1\n",
    "    b=random.randint(0,25) # the key which can be anything of Z26\n",
    "    x=str(a)\n",
    "    y=str(b)\n",
    "    print(\"Key1: \"+x+\"\\tKey2: \"+y) # printing the two keys\n",
    "    cipher=enc_shift(message,a,b) # encrypting the plain text\n",
    "    print(\"cipher text is\\t\\t\\t\\t\"+cipher)\n",
    "    print(\"plain text from cipher text is\\t\\t\"+dec_shift(cipher,a,b)) #decrypting the cipher text\n",
    "\n",
    "if __name__=='__main__':\n",
    "    main()"
   ]
  }
 ],
 "metadata": {
  "kernelspec": {
   "display_name": "Python 3",
   "language": "python",
   "name": "python3"
  },
  "language_info": {
   "codemirror_mode": {
    "name": "ipython",
    "version": 3
   },
   "file_extension": ".py",
   "mimetype": "text/x-python",
   "name": "python",
   "nbconvert_exporter": "python",
   "pygments_lexer": "ipython3",
   "version": "3.7.3"
  }
 },
 "nbformat": 4,
 "nbformat_minor": 2
}
