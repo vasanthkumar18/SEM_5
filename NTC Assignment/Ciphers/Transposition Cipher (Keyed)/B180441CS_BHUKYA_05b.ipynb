{
 "cells": [
  {
   "cell_type": "code",
   "execution_count": 24,
   "metadata": {},
   "outputs": [],
   "source": [
    "def getkey(mappingkey,val): # we get the key for which we know the value in mapping dictionary\n",
    "    for key,value in mappingkey.items():\n",
    "        if val==value:\n",
    "            return key"
   ]
  },
  {
   "cell_type": "code",
   "execution_count": 25,
   "metadata": {},
   "outputs": [],
   "source": [
    "def dec_keyed(cipher,key):\n",
    "    \n",
    "    plain=\"\"\n",
    "    result=\"\"\n",
    "    i=0\n",
    "    count=0\n",
    "    k=len(key)+1\n",
    "    while(i<len(cipher)):\n",
    "        j=1\n",
    "        while(cipher[i]!=' '):\n",
    "            p=getkey(key,j%(k+1))\n",
    "            s=int(p)\n",
    "            plain=plain+cipher[k*count+s-1]\n",
    "            j=j+1\n",
    "            i=i+1\n",
    "        plain=plain+' '\n",
    "        count=count+1\n",
    "        i=i+1\n",
    "    return plain"
   ]
  },
  {
   "cell_type": "code",
   "execution_count": 26,
   "metadata": {},
   "outputs": [],
   "source": [
    "def enc_keyed(message,key): #encrypt the plain text using the mapping key\n",
    "    result=\"\"\n",
    "    plain=\"\"\n",
    "    i=0\n",
    "    j=0\n",
    "    while(i<len(message)):\n",
    "        j=0\n",
    "        while(j<len(key) and i<len(message)):\n",
    "            plain=plain+message[i]\n",
    "            i=i+1\n",
    "            j=j+1\n",
    "        while(j<len(key)):\n",
    "            plain=plain+'Z'\n",
    "            j=j+1\n",
    "        plain=plain+' '\n",
    "    print(\"The plain text from message is:\\t\\t\"+plain)\n",
    "    \n",
    "    i=0\n",
    "    count=0\n",
    "    k=len(key)+1\n",
    "    while(i<len(plain)):\n",
    "        j=1\n",
    "        while(plain[i]!=' '):\n",
    "            l=key.get(j%(k+1))\n",
    "            s=int(l)\n",
    "            result=result+plain[k*count+s-1]\n",
    "            j=j+1\n",
    "            i=i+1\n",
    "        result=result+' '\n",
    "        count=count+1\n",
    "        i=i+1\n",
    "    return result  \n",
    "#result contains the encrypted text"
   ]
  },
  {
   "cell_type": "code",
   "execution_count": 29,
   "metadata": {},
   "outputs": [
    {
     "name": "stdout",
     "output_type": "stream",
     "text": [
      "Enter the message\n",
      "keyed transposition\n",
      "size of key is: 5\t\t\tKey is: {1: 3, 2: 1, 3: 4, 4: 5, 5: 2}\n",
      "The plain text from message is:\t\tKEYED TRANS POSIT IONZZ \n",
      "cipher text is\t\t\t\tYKEDE ATNSR SPITO NIZZO \n",
      "plain text from cipher text is\t\tKEYED TRANS POSIT IONZZ \n"
     ]
    }
   ],
   "source": [
    "import random\n",
    "def main():\n",
    "    message=input(\"Enter the message\\n\") #insering the plain text for which we need encryption\n",
    "    z=len(message)\n",
    "    i=random.randint(1,z); #randomkey size\n",
    "    keylist=\"\"\n",
    "    i=5\n",
    "    for j in range(1,i+1):\n",
    "        keylist=keylist+str(j)\n",
    "    ins=\"\"\n",
    "    for j in range(1,i+1):\n",
    "        ins=ins+str(j)\n",
    "    key={}\n",
    "    for j in range(i):\n",
    "        p=random.choice(ins)\n",
    "        key[j+1]=p\n",
    "        ins=ins.replace(p,'')\n",
    "    y=i\n",
    "    \n",
    "    message=message.upper()\n",
    "    text=\"\"\n",
    "    j=0\n",
    "    while(j<len(message)): # generating plain text with no spaces\n",
    "        if(message[j]!=' '):\n",
    "            text=text+message[j]\n",
    "        j=j+1\n",
    "    key[1]=3\n",
    "    key[2]=1\n",
    "    key[3]=4\n",
    "    key[4]=5\n",
    "    key[5]=2\n",
    "    print(\"size of key is: \"+str(y)+\"\\t\\t\\tKey is: \"+str(key)) # printing the size of key and key\n",
    "    cipher=enc_keyed(text,key) #encrypting the plain text\n",
    "    print(\"cipher text is\\t\\t\\t\\t\"+cipher) #printing the encrypted text\n",
    "    print(\"plain text from cipher text is\\t\\t\"+dec_keyed(cipher,key)) # decrypting cipher text and prining it\n",
    "\n",
    "\n",
    "\n",
    "if __name__=='__main__':\n",
    " main()"
   ]
  },
  {
   "cell_type": "code",
   "execution_count": null,
   "metadata": {},
   "outputs": [],
   "source": []
  }
 ],
 "metadata": {
  "kernelspec": {
   "display_name": "Python 3",
   "language": "python",
   "name": "python3"
  },
  "language_info": {
   "codemirror_mode": {
    "name": "ipython",
    "version": 3
   },
   "file_extension": ".py",
   "mimetype": "text/x-python",
   "name": "python",
   "nbconvert_exporter": "python",
   "pygments_lexer": "ipython3",
   "version": "3.7.3"
  }
 },
 "nbformat": 4,
 "nbformat_minor": 2
}
