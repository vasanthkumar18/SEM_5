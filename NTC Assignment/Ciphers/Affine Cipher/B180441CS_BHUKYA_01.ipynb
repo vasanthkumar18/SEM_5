{
 "cells": [
  {
   "cell_type": "code",
   "execution_count": 1,
   "metadata": {},
   "outputs": [],
   "source": [
    "def inverse_mod(l): # checking if there's inverse for l in Z26\n",
    "    for i in range(1,26):       #since the alphabets are 26, we use Z26\n",
    "        if (l*i)%26==1:\n",
    "            return i\n",
    "    #we pass the inputs only which have the inverse and finally i is the inverse which we are looking for"
   ]
  },
  {
   "cell_type": "code",
   "execution_count": 2,
   "metadata": {},
   "outputs": [],
   "source": [
    "def enc_affine(plain,a,b): #encrypt the plain text where we have 2 keys in which a has inverse\n",
    "    result=\"\"\n",
    "    for c in plain:\n",
    "        if c.isupper():         # incase the character is UPPERCASE\n",
    "            d=(ord(c)-65)*a+b\n",
    "            result+=chr((d%26)+65)\n",
    "        elif c.islower():       # incase the character is UPPERCASE\n",
    "            d=(ord(c)-97)*a+b\n",
    "            result+=chr((d%26)+65)\n",
    "        else:                   # space (considering proper message)\n",
    "            result=result+''\n",
    "    return result    \n",
    "#result has the encrypted text"
   ]
  },
  {
   "cell_type": "code",
   "execution_count": 3,
   "metadata": {},
   "outputs": [],
   "source": [
    "def dec_affine(cipher,a,b):     #decrypt the plain text where we have 2 keys in which a has inverse\n",
    "    result=\"\"\n",
    "    for c in cipher:\n",
    "        if c.isupper():\n",
    "            d=((ord(c)-65)-b)*inverse_mod(a)\n",
    "            result+=chr((d%26)+65)\n",
    "        elif c.islower():\n",
    "            d=((ord(c)-97)-b)*inverse_mod(a)\n",
    "            result+=chr((d%26)+65)\n",
    "    return result    \n",
    "#result has the decrypted text "
   ]
  },
  {
   "cell_type": "code",
   "execution_count": 6,
   "metadata": {},
   "outputs": [
    {
     "name": "stdout",
     "output_type": "stream",
     "text": [
      "INPUT YOUR MESSAGE\n",
      "number theory\n",
      "Key1: 3\tKey2: 18\n",
      "cipher text is\t\t\t\tFACVERXNEIRM\n",
      "plain text from cipher text is\t\tNUMBERTHEORY\n"
     ]
    }
   ],
   "source": [
    "import random\n",
    "def main():\n",
    "    message=input(\"INPUT YOUR MESSAGE\\n\")\n",
    "    p=[1,3,5,7,9,11,17,19,21,23,25] #only these integers have inverses in Z26\n",
    "    a=random.choice(p) # anything in p\n",
    "    b=random.randint(0,25) #anything in Z26\n",
    "    x=str(a)\n",
    "    y=str(b)\n",
    "    print(\"Key1: \"+x+\"\\tKey2: \"+y)   # printing the two keys\n",
    "    cipher=enc_affine(message,a,b)  # encrypting the plain text\n",
    "    print(\"cipher text is\\t\\t\\t\\t\"+cipher) \n",
    "    print(\"plain text from cipher text is\\t\\t\"+dec_affine(cipher,a,b)) #decrypting the cipher text\n",
    "\n",
    "if __name__=='__main__':\n",
    "    main()"
   ]
  },
  {
   "cell_type": "code",
   "execution_count": null,
   "metadata": {},
   "outputs": [],
   "source": []
  }
 ],
 "metadata": {
  "kernelspec": {
   "display_name": "Python 3",
   "language": "python",
   "name": "python3"
  },
  "language_info": {
   "codemirror_mode": {
    "name": "ipython",
    "version": 3
   },
   "file_extension": ".py",
   "mimetype": "text/x-python",
   "name": "python",
   "nbconvert_exporter": "python",
   "pygments_lexer": "ipython3",
   "version": "3.7.3"
  }
 },
 "nbformat": 4,
 "nbformat_minor": 2
}
